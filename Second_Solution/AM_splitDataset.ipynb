{
 "cells": [
  {
   "cell_type": "markdown",
   "metadata": {},
   "source": [
    "# Dataset split\n",
    "\n",
    "This file divides our dataset into train, validation and test set. We can't use preprogrammed functions to do that, because we divided each of our files into other smallers (i.e. one sound to six images). Putting images made out of same mp3 file might lead to the *data leakage* and make our results *not trustworthy* and *biased*."
   ]
  },
  {
   "cell_type": "code",
   "execution_count": 19,
   "metadata": {},
   "outputs": [
    {
     "name": "stdout",
     "output_type": "stream",
     "text": [
      "['Alaudaarvensis', 'Erithacusrubecula', 'Fringillacoelebs', 'Parusmajor', 'Phoenicurusochruros', 'Phoenicurusphoenicurus', 'Phylloscopuscollybita', 'Troglodytestroglodytes', 'Turdusmerula', 'Turdusphilomelos']\n",
      "Found  195  mp3 files for  Alaudaarvensis\n",
      "Size of train:  156 , val:  19 , test:  19\n",
      "Found  547  mp3 files for  Erithacusrubecula\n",
      "Size of train:  437 , val:  54 , test:  54\n",
      "Found  462  mp3 files for  Fringillacoelebs\n",
      "Size of train:  369 , val:  46 , test:  46\n",
      "Found  424  mp3 files for  Parusmajor\n",
      "Size of train:  339 , val:  42 , test:  42\n",
      "Found  268  mp3 files for  Phoenicurusochruros\n",
      "Size of train:  214 , val:  26 , test:  26\n",
      "Found  162  mp3 files for  Phoenicurusphoenicurus\n",
      "Size of train:  129 , val:  16 , test:  16\n",
      "Found  288  mp3 files for  Phylloscopuscollybita\n",
      "Size of train:  230 , val:  28 , test:  28\n",
      "Found  331  mp3 files for  Troglodytestroglodytes\n",
      "Size of train:  264 , val:  33 , test:  33\n",
      "Found  353  mp3 files for  Turdusmerula\n",
      "Size of train:  282 , val:  35 , test:  35\n",
      "Found  351  mp3 files for  Turdusphilomelos\n",
      "Size of train:  280 , val:  35 , test:  35\n",
      "[156, 437, 369, 339, 214, 129, 230, 264, 282, 280]\n",
      "[19, 54, 46, 42, 26, 16, 28, 33, 35, 35]\n",
      "[20, 56, 47, 43, 28, 17, 30, 34, 36, 36]\n"
     ]
    }
   ],
   "source": [
    "import os\n",
    "\n",
    "# define number of files for all sets\n",
    "train = 0.8 # 80% of all sound should be in the train set\n",
    "val = 0.1 # 10% validation set\n",
    "test = 0.1 # 10% test set\n",
    "kfolds = 1\n",
    "basePath=\"./data/rawData/\" # path with sound files. Can be downloaded with \"AM_downloadData\"\n",
    "imPath = \"./data/prepared/\" # path with images (melspectrograms)\n",
    "                                # Can be generated with \"AM_prepareData\" after downloading sound files\n",
    "destPath = \"./data/splited/\" # destination path - where the split dataset should be copied\n",
    "                            # This folder will be used to train CNNs\n",
    "\n",
    "# first find all of the mp3 files in the directory\n",
    "birds=[] # list of all bird spiecies (Ember, Phyll...)\n",
    "singleBirdList=[] # list of files for one bird\n",
    "allFilesList=[] # list of all files for all birds. A list of singleBirdLists. \n",
    "for root, dirs, files in os.walk(basePath):\n",
    "    if root == basePath:\n",
    "        birds=dirs\n",
    "print(birds)\n",
    "\n",
    "trainSet=[]\n",
    "testSet=[]\n",
    "valSet=[]\n",
    "\n",
    "birdsShort=[] # list of short file names\n",
    "birdNumber=0\n",
    "for nr,bird in enumerate(birds):\n",
    "    for root, dirs, files in os.walk(basePath+bird):\n",
    "        for file in files:\n",
    "            if file.endswith(\".mp3\"):\n",
    "                singleBirdList.append(os.path.join(root, file))\n",
    "    if len(singleBirdList) > 50:\n",
    "        birdsShort.append(str(birdNumber)+bird[:5])\n",
    "        birdNumber = birdNumber+1;\n",
    "        print(\"Found \", len(singleBirdList), ' mp3 files for ', bird)\n",
    "        trainSet.append(int(train*len(singleBirdList)))\n",
    "        valSet.append(int(val*len(singleBirdList)))\n",
    "        roundDiff = len(singleBirdList)-(int(train*len(singleBirdList))+int(test*len(singleBirdList))+int(val*len(singleBirdList))) \n",
    "        testSet.append(int(test*len(singleBirdList)) + roundDiff)\n",
    "        print(\"Size of train: \", int(train*len(singleBirdList)),\", val: \",int(val*len(singleBirdList)) ,\", test: \",int(test*len(singleBirdList)))\n",
    "        allFilesList.append(singleBirdList)\n",
    "    singleBirdList=[]\n",
    "\n",
    "\n",
    "print(trainSet)\n",
    "print(valSet)\n",
    "print(testSet)\n"
   ]
  },
  {
   "cell_type": "code",
   "execution_count": 20,
   "metadata": {},
   "outputs": [
    {
     "name": "stdout",
     "output_type": "stream",
     "text": [
      "Selected random files number:\n",
      " train:  156 / 156 , val:  19 / 19 , test:  20 / 20\n",
      "Selected random files number:\n",
      " train:  437 / 437 , val:  54 / 54 , test:  56 / 56\n",
      "Selected random files number:\n",
      " train:  369 / 369 , val:  46 / 46 , test:  47 / 47\n",
      "Selected random files number:\n",
      " train:  339 / 339 , val:  42 / 42 , test:  43 / 43\n",
      "Selected random files number:\n",
      " train:  214 / 214 , val:  26 / 26 , test:  28 / 28\n",
      "Selected random files number:\n",
      " train:  129 / 129 , val:  16 / 16 , test:  17 / 17\n",
      "Selected random files number:\n",
      " train:  230 / 230 , val:  28 / 28 , test:  30 / 30\n",
      "Selected random files number:\n",
      " train:  264 / 264 , val:  33 / 33 , test:  34 / 34\n",
      "Selected random files number:\n",
      " train:  282 / 282 , val:  35 / 35 , test:  36 / 36\n",
      "Selected random files number:\n",
      " train:  280 / 280 , val:  35 / 35 , test:  36 / 36\n"
     ]
    }
   ],
   "source": [
    "# randomly choose mp3 files for each set  \n",
    "\n",
    "from random import sample\n",
    "\n",
    "trainFiles=[]\n",
    "valFiles=[]\n",
    "testFiles=[]\n",
    "\n",
    "for index, singleBirdList in enumerate(allFilesList):\n",
    "    randFiles = sample(range(len(singleBirdList)), len(singleBirdList))\n",
    "    start = 0\n",
    "    end = trainSet[index]\n",
    "    trainFiles.append(randFiles[start:end])\n",
    "    start = end \n",
    "    end = start + valSet[index]\n",
    "    valFiles.append(randFiles[start:end])\n",
    "    start = end \n",
    "    end = start + testSet[index] \n",
    "    testFiles.append(randFiles[start:end])\n",
    "    print(\"Selected random files number:\\n train: \", len(trainFiles[index]),\"/\",trainSet[index],\n",
    "          \", val: \",len(valFiles[index]),\"/\",valSet[index],\n",
    "          \", test: \",len(testFiles[index]),\"/\",testSet[index])\n",
    "\n"
   ]
  },
  {
   "cell_type": "markdown",
   "metadata": {},
   "source": [
    "# Copying files to a new directory\n",
    "In previous blocks we've randomly selected which files will belong to which sets. Now we have to find corresponding images to those files and copy them to new directory.\n",
    "\n",
    "* new directory - i.e. ..data/mels/final\n",
    "    - train \n",
    "        - one folder for each class\n",
    "        - Ember\n",
    "        - Phyll\n",
    "        - ...\n",
    "    - val\n",
    "        - folders for each class\n",
    "    - test\n",
    "        - folders for each class"
   ]
  },
  {
   "cell_type": "code",
   "execution_count": 44,
   "metadata": {},
   "outputs": [],
   "source": [
    "def extractName(string):\n",
    "    return string.split(\"\\\\\")[-1].replace(' ', '')[:-4]"
   ]
  },
  {
   "cell_type": "code",
   "execution_count": 22,
   "metadata": {},
   "outputs": [],
   "source": [
    "# sort all the lists to make copying files easier\n",
    "sets=[trainFiles,valFiles,testFiles]\n",
    "for fileSet in sets:\n",
    "    for index,files in enumerate(fileSet):\n",
    "        fileSet[index].sort()"
   ]
  },
  {
   "cell_type": "code",
   "execution_count": 24,
   "metadata": {},
   "outputs": [
    {
     "name": "stdout",
     "output_type": "stream",
     "text": [
      "Long:  ['Alaudaarvensis', 'Erithacusrubecula', 'Fringillacoelebs', 'Parusmajor', 'Phoenicurusochruros', 'Phoenicurusphoenicurus', 'Phylloscopuscollybita', 'Troglodytestroglodytes', 'Turdusmerula', 'Turdusphilomelos'] \n",
      "Short:  ['0Alaud', '1Erith', '2Fring', '3Parus', '4Phoen', '5Phoen', '6Phyll', '7Trogl', '8Turdu', '9Turdu']\n"
     ]
    }
   ],
   "source": [
    "# change full names to short\n",
    "\n",
    "for root, dirs, files in os.walk(basePath):\n",
    "    if root == basePath:\n",
    "        birds=dirs\n",
    "# birdsShort=[]\n",
    "# for bird in birds:\n",
    "#    birdsShort.append(bird[:5])\n",
    "\n",
    "setNames = [\"train/\",\"val/\",\"test/\"]\n",
    "\n",
    "print(\"Long: \", birds,\"\\nShort: \",birdsShort)\n"
   ]
  },
  {
   "cell_type": "code",
   "execution_count": 47,
   "metadata": {},
   "outputs": [
    {
     "name": "stdout",
     "output_type": "stream",
     "text": [
      "0\n",
      "2662\n",
      "11886\n",
      "7913\n",
      "5448\n",
      "4465\n",
      "3037\n",
      "3515\n",
      "7422\n",
      "15305\n"
     ]
    }
   ],
   "source": [
    "\n",
    "import shutil\n",
    "\n",
    "counter=0\n",
    "for birdNumber, bird in enumerate(birdsShort): # for each class (bird) check where the file should be copied\n",
    "    print(counter)\n",
    "    counter=0\n",
    "    for setName, fileSet in zip(setNames, sets): # check for all datasets: train, val and test sests \n",
    "        for setNumber in fileSet[birdNumber]:\n",
    "            for fileNumber, file in enumerate(allFilesList[birdNumber]):\n",
    "                if setNumber == fileNumber: # if file number to copy is same as number of file, then copy it\n",
    "                    \n",
    "                    for root, dirs, files in os.walk(imPath):\n",
    "                        for file2 in files:\n",
    "                            extracted_name = extractName(file)\n",
    "                            # print()\n",
    "                            # print(\"Extracted name:\", extracted_name)\n",
    "                            # print(\"Current file:\", file2)\n",
    "                            # print(\"Is in\", extracted_name in file2)\n",
    "\n",
    "                            if extracted_name in file2:\n",
    "                                counter=counter+1\n",
    "                                source=root+\"/\"+file2\n",
    "                                \n",
    "                                destination = destPath+setName+bird+\"/\"\n",
    "                                if not os.path.exists(destination):\n",
    "                                    os.makedirs(destination)\n",
    "                                shutil.copy2(source, destination)\n",
    "                                #print(source, \"   ->   \", destination)\n",
    "\n",
    "            "
   ]
  },
  {
   "cell_type": "code",
   "execution_count": null,
   "metadata": {},
   "outputs": [],
   "source": []
  },
  {
   "cell_type": "code",
   "execution_count": null,
   "metadata": {},
   "outputs": [],
   "source": []
  }
 ],
 "metadata": {
  "kernelspec": {
   "display_name": "Python 3 (ipykernel)",
   "language": "python",
   "name": "python3"
  },
  "language_info": {
   "codemirror_mode": {
    "name": "ipython",
    "version": 3
   },
   "file_extension": ".py",
   "mimetype": "text/x-python",
   "name": "python",
   "nbconvert_exporter": "python",
   "pygments_lexer": "ipython3",
   "version": "3.11.8"
  }
 },
 "nbformat": 4,
 "nbformat_minor": 4
}

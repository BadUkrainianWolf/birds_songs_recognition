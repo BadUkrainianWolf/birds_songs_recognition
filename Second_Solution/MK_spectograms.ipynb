{
 "cells": [
  {
   "cell_type": "markdown",
   "metadata": {},
   "source": [
    "## Loading libraries"
   ]
  },
  {
   "cell_type": "code",
   "execution_count": 3,
   "metadata": {},
   "outputs": [],
   "source": [
    "import matplotlib.pyplot as plt\n",
    "%matplotlib inline\n",
    "import librosa, librosa.display, IPython.display as ipd\n",
    "import numpy as np\n",
    "import json\n",
    "from mutagen.mp3 import MP3\n",
    "from statistics import mean, median\n",
    "import noisereduce as nr"
   ]
  },
  {
   "cell_type": "code",
   "execution_count": 5,
   "metadata": {},
   "outputs": [],
   "source": [
    "savePath=\"./data/xeno-canto-dataset-full-all-Countries/\"\n",
    "bPath = \"./data/\"\n",
    "basePath = \"data/xeno-canto-dataset\"\n",
    "\n",
    "def save_json(searchTerms, birdName, country):\n",
    "    numPages = 1\n",
    "    page = 1\n",
    "    # create a path to save recordings\n",
    "    path = bPath + birdName.replace(':', '') + \"/\" + country\n",
    "    if not os.path.exists(path):\n",
    "        print(\"Creating subdirectory \" + path + \" for downloaded files...\")\n",
    "        os.makedirs(path)\n",
    "        # download a json file for every page found in a query\n",
    "    while page < numPages + 1:\n",
    "        print(\"Loading page \" + str(page) + \"...\")\n",
    "        url = 'https://www.xeno-canto.org/api/2/recordings?query={0}&page={1}'.format(searchTerms.replace(' ', '%20'),\n",
    "                                                                                      page)\n",
    "        print(url)\n",
    "        jsonPage = urllib.request.urlopen(url)\n",
    "        jsondata = json.loads(jsonPage.read().decode('utf-8'))\n",
    "        filename = path + \"/jsondata_p\" + str(page) + \".json\"\n",
    "        with open(filename, 'w') as outfile:\n",
    "            json.dump(jsondata, outfile)\n",
    "        # check number of pages\n",
    "        numPages = jsondata['numPages']\n",
    "        page = page + 1\n",
    "    print(\"Found \", numPages, \" pages in total.\")\n",
    "    print(\"Saved json for \", (numPages - 1) * 500 + len(jsondata['recordings']), \" files\")\n",
    "    return path\n",
    "\n",
    "def read_data(searchTerm, path):\n",
    "    data = []\n",
    "    numPages = 1\n",
    "    page = 1\n",
    "    # read all pages and save results in a list\n",
    "    while page < numPages + 1:\n",
    "        # read file\n",
    "        with open(path + \"/jsondata_p\" + str(page) + \".json\", 'r') as jsonfile:\n",
    "            jsondata = jsonfile.read()\n",
    "        jsondata = json.loads(jsondata)\n",
    "        # check number of pages\n",
    "        numPages = jsondata['numPages']\n",
    "        # find \"recordings\" in a json and save a list with a search term\n",
    "        for k in range(len(jsondata['recordings'])):\n",
    "            data.append(jsondata[\"recordings\"][k][searchTerm])\n",
    "        page = page + 1\n",
    "    return data\n",
    "\n",
    "def download(searchTerms, birdName, country):\n",
    "    # create data/xeno-canto-dataset directory\n",
    "    path = save_json(searchTerms, birdName, country)\n",
    "    # get filenames: recording ID and bird name in latin from json\n",
    "    filenamesID = read_data('id', path)\n",
    "    filenamesCountry = read_data('cnt', path)\n",
    "\n",
    "    fileaddress = read_data('file', path) #json file\n",
    "    \n",
    "    numfiles = len(filenamesID)\n",
    "    print(\"A total of \", numfiles, \" files will be downloaded\")\n",
    "    for i in range(0, numfiles):\n",
    "        print(\"Saving file \", i + 1, \"/\", numfiles,\n",
    "              path + \"/\" + birdName.replace(':', '') + filenamesID[i] + \".mp3\")\n",
    "        urllib.request.urlretrieve(fileaddress[i],\n",
    "                                   path + \"/\" + birdName + filenamesID[i] + \".mp3\")\n"
   ]
  },
  {
   "cell_type": "markdown",
   "metadata": {},
   "source": [
    "## Loading data "
   ]
  },
  {
   "cell_type": "code",
   "execution_count": 8,
   "metadata": {},
   "outputs": [],
   "source": [
    "countries = ['France']\n",
    "\n",
    "bird = {\n",
    "        'gen':'Parus',\n",
    "        'spec':'major',\n",
    "        'country':countries\n",
    "        }\n",
    "\n",
    "path = './data/rawData/' +bird['gen']+bird['spec']+'/'+bird['country'][0]\n",
    "idData = read_data('id', path)"
   ]
  },
  {
   "cell_type": "markdown",
   "metadata": {},
   "source": [
    "## Configuration of mel spectograms"
   ]
  },
  {
   "cell_type": "code",
   "execution_count": 9,
   "metadata": {},
   "outputs": [],
   "source": [
    "N_FFT = 1024         # Number of frequency bins for Fast Fourier Transform\n",
    "HOP_SIZE = 1024      # Number of audio frames between STFT columns\n",
    "SR = 44100           # Sampling frequency\n",
    "N_MELS = 40          # Mel band parameters   \n",
    "WIN_SIZE = 1024      # number of samples in each STFT window\n",
    "WINDOW_TYPE = 'hann' # the windowin function\n",
    "FEATURE = 'mel'      # feature representation\n",
    "plt.rcParams['figure.figsize'] = (10,4)"
   ]
  },
  {
   "cell_type": "markdown",
   "metadata": {},
   "source": [
    "## Creating 5 sec spectograms with reduced noise"
   ]
  },
  {
   "cell_type": "code",
   "execution_count": 37,
   "metadata": {},
   "outputs": [
    {
     "name": "stdout",
     "output_type": "stream",
     "text": [
      "Error processing ./data/rawdata\\Phoenicurusphoenicurus\\France\\Phoenicurusphoenicurus737600.mp3: Audio buffer is not finite everywhere\n"
     ]
    }
   ],
   "source": [
    "import os\n",
    "import glob\n",
    "\n",
    "# Define the paths\n",
    "raw_data_path = './data/rawdata/'\n",
    "specs_path = './data/specs/'\n",
    "\n",
    "# Create the specs directory if it doesn't exist\n",
    "os.makedirs(specs_path, exist_ok=True)\n",
    "\n",
    "# Define parameters\n",
    "N_FFT = 1024         # Number of frequency bins for Fast Fourier Transform\n",
    "HOP_SIZE = 1024      # Number of audio frames between STFT columns\n",
    "SR = 44100           # Sampling frequency\n",
    "N_MELS = 40          # Mel band parameters   \n",
    "WIN_SIZE = 1024      # number of samples in each STFT window\n",
    "WINDOW_TYPE = 'hann' # the window function\n",
    "\n",
    "# Get all audio files in the raw data directory\n",
    "audio_files = glob.glob(raw_data_path + '/**/*.mp3', recursive=True)\n",
    "\n",
    "for audio_file in audio_files:\n",
    "    try:\n",
    "        # Get bird species and country\n",
    "        species = os.path.basename(os.path.dirname(audio_file))\n",
    "        country = os.path.basename(os.path.dirname(os.path.dirname(audio_file)))\n",
    "\n",
    "        # Create directory structure for the spectrogram\n",
    "        spec_dir = os.path.join(specs_path, species, country, 'spectrogram')\n",
    "        os.makedirs(spec_dir, exist_ok=True)\n",
    "\n",
    "        # Load audio\n",
    "        noisy, sr = librosa.load(audio_file, duration=5, mono=True)\n",
    "\n",
    "        # Perform noise reduction\n",
    "        noisy = nr.reduce_noise(y=noisy, y_noise=noisy, prop_decrease = 1, sr=sr)\n",
    "\n",
    "        # Generate spectrogram\n",
    "        spec = librosa.feature.melspectrogram(y=noisy, \n",
    "                                               sr=sr, \n",
    "                                               n_fft=N_FFT, \n",
    "                                               hop_length=HOP_SIZE, \n",
    "                                               n_mels=N_MELS, \n",
    "                                               htk=True, \n",
    "                                               fmin=0.0, \n",
    "                                               fmax=sr/2.0)\n",
    "\n",
    "        # Convert to dB scale\n",
    "        spec_db = librosa.amplitude_to_db(spec, ref=1.0)\n",
    "\n",
    "        # Plot and save the spectrogram\n",
    "        plt.figure(figsize=(10, 4))\n",
    "        librosa.display.specshow(spec_db, sr=sr, hop_length=HOP_SIZE, x_axis='time', y_axis='mel')\n",
    "        plt.title('Mel spectrogram - ' + os.path.basename(audio_file))\n",
    "        plt.colorbar(format='%+2.0f dB')\n",
    "        plt.tight_layout()\n",
    "\n",
    "        # Save the spectrogram\n",
    "        spec_filename = os.path.join(spec_dir, os.path.splitext(os.path.basename(audio_file))[0] + '_spec.png')\n",
    "        plt.savefig(spec_filename)\n",
    "        plt.close()\n",
    "    except Exception as e:\n",
    "        print(f\"Error processing {audio_file}: {e}\")\n"
   ]
  },
  {
   "cell_type": "code",
   "execution_count": null,
   "metadata": {},
   "outputs": [],
   "source": []
  },
  {
   "cell_type": "code",
   "execution_count": null,
   "metadata": {},
   "outputs": [],
   "source": []
  }
 ],
 "metadata": {
  "kernelspec": {
   "display_name": "Python 3 (ipykernel)",
   "language": "python",
   "name": "python3"
  },
  "language_info": {
   "codemirror_mode": {
    "name": "ipython",
    "version": 3
   },
   "file_extension": ".py",
   "mimetype": "text/x-python",
   "name": "python",
   "nbconvert_exporter": "python",
   "pygments_lexer": "ipython3",
   "version": "3.11.8"
  }
 },
 "nbformat": 4,
 "nbformat_minor": 4
}

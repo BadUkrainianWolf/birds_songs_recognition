{
 "cells": [
  {
   "cell_type": "code",
   "execution_count": 15,
   "id": "b5f5d60f-537d-42c6-9679-b9c631e7a128",
   "metadata": {},
   "outputs": [],
   "source": [
    "import os\n",
    "import librosa\n",
    "import soundfile as sf\n",
    "\n",
    "def mp3_to_wav(mp3_file, wav_file):\n",
    "    audio, sr = librosa.load(mp3_file, sr=None)\n",
    "    sf.write(wav_file, audio, sr)\n",
    "\n",
    "def batch_convert_mp3_to_wav(mp3_dir, wav_dir):\n",
    "    os.makedirs(wav_dir, exist_ok=True)\n",
    "    for filename in os.listdir(mp3_dir):\n",
    "        if filename.endswith(\".mp3\"):\n",
    "            mp3_file = os.path.join(mp3_dir, filename)\n",
    "            wav_file = os.path.join(wav_dir, os.path.splitext(filename)[0] + \".wav\")\n",
    "            mp3_to_wav(mp3_file, wav_file)\n",
    "\n",
    "# Example usage\n",
    "mp3_dir = \"./Project/dataset/audio/Turdusphilomelos\"\n",
    "wav_dir = \"./Project/dataset/wav/Turdusphilomelos\"\n",
    "batch_convert_mp3_to_wav(mp3_dir, wav_dir)\n",
    "\n"
   ]
  },
  {
   "cell_type": "code",
   "execution_count": null,
   "id": "cb143e5c-28aa-4ac8-92a0-443d931ef787",
   "metadata": {},
   "outputs": [],
   "source": []
  }
 ],
 "metadata": {
  "kernelspec": {
   "display_name": "Python 3 (ipykernel)",
   "language": "python",
   "name": "python3"
  },
  "language_info": {
   "codemirror_mode": {
    "name": "ipython",
    "version": 3
   },
   "file_extension": ".py",
   "mimetype": "text/x-python",
   "name": "python",
   "nbconvert_exporter": "python",
   "pygments_lexer": "ipython3",
   "version": "3.11.8"
  }
 },
 "nbformat": 4,
 "nbformat_minor": 5
}
